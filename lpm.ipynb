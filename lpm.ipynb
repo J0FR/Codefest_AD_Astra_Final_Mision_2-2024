{
 "cells": [
  {
   "cell_type": "code",
   "execution_count": 1,
   "metadata": {},
   "outputs": [],
   "source": [
    "import csv\n",
    "import pandas as pd\n",
    "import matplotlib.pyplot as plt\n",
    "import numpy as np"
   ]
  },
  {
   "cell_type": "code",
   "execution_count": 2,
   "metadata": {},
   "outputs": [],
   "source": [
    "def read_csv(filepath):\n",
    "    blanks = 0\n",
    "    conteo = 0\n",
    "    data = []\n",
    "    \n",
    "    with open(filepath, mode='r') as file:\n",
    "        csv_reader = csv.reader(file, delimiter=';')\n",
    "\n",
    "        for row in csv_reader:\n",
    "            if all(cell.strip() == \"\" for cell in row):\n",
    "                blanks += 1\n",
    "            conteo += 1\n",
    "\n",
    "            if blanks == 2:\n",
    "                data.append(row)\n",
    "\n",
    "        columns = data[3]\n",
    "        data = data[4:]\n",
    "        \n",
    "    df = pd.DataFrame(data, columns=columns)\n",
    "    df = df.replace(',', '.', regex=True)\n",
    "    df = df.replace(r'^\\s*$', 0, regex=True)\n",
    "    return df"
   ]
  },
  {
   "cell_type": "code",
   "execution_count": 3,
   "metadata": {},
   "outputs": [
    {
     "name": "stderr",
     "output_type": "stream",
     "text": [
      "C:\\Users\\DiDi\\AppData\\Local\\Temp\\ipykernel_26260\\1955286787.py:22: FutureWarning: Downcasting behavior in `replace` is deprecated and will be removed in a future version. To retain the old behavior, explicitly call `result.infer_objects(copy=False)`. To opt-in to the future behavior, set `pd.set_option('future.no_silent_downcasting', True)`\n",
      "  df = df.replace(r'^\\s*$', 0, regex=True)\n"
     ]
    }
   ],
   "source": [
    "# Leer el archivo CSV\n",
    "df = read_csv('uploads/SPG_001.csv')"
   ]
  },
  {
   "cell_type": "code",
   "execution_count": 4,
   "metadata": {},
   "outputs": [
    {
     "name": "stdout",
     "output_type": "stream",
     "text": [
      "       Frequency [Hz]  Average Magnitude [dBm]  \\\n",
      "0           400000000               -89.098056   \n",
      "1    400079365.079365               -89.098300   \n",
      "2     400158730.15873               -89.239173   \n",
      "3    400238095.238095               -89.166295   \n",
      "4     400317460.31746               -89.890683   \n",
      "..                ...                      ...   \n",
      "626   449682539.68254               -93.239418   \n",
      "627  449761904.761905               -92.829249   \n",
      "628   449841269.84127               -92.840479   \n",
      "629  449920634.920635               -93.121861   \n",
      "630         450000000               -92.375743   \n",
      "\n",
      "     Filtered Average Magnitude [dBm]  \n",
      "0                          -89.098056  \n",
      "1                          -89.098300  \n",
      "2                          -89.239173  \n",
      "3                          -89.166295  \n",
      "4                            0.000000  \n",
      "..                                ...  \n",
      "626                          0.000000  \n",
      "627                          0.000000  \n",
      "628                          0.000000  \n",
      "629                          0.000000  \n",
      "630                          0.000000  \n",
      "\n",
      "[631 rows x 3 columns]\n"
     ]
    },
    {
     "name": "stderr",
     "output_type": "stream",
     "text": [
      "C:\\Users\\DiDi\\AppData\\Local\\Temp\\ipykernel_26260\\1443759555.py:11: PerformanceWarning: DataFrame is highly fragmented.  This is usually the result of calling `frame.insert` many times, which has poor performance.  Consider joining all columns at once using pd.concat(axis=1) instead. To get a de-fragmented frame, use `newframe = frame.copy()`\n",
      "  df['Average Magnitude [dBm]'] = random_columns.mean(axis=1)\n",
      "C:\\Users\\DiDi\\AppData\\Local\\Temp\\ipykernel_26260\\1443759555.py:17: PerformanceWarning: DataFrame is highly fragmented.  This is usually the result of calling `frame.insert` many times, which has poor performance.  Consider joining all columns at once using pd.concat(axis=1) instead. To get a de-fragmented frame, use `newframe = frame.copy()`\n",
      "  df['Filtered Average Magnitude [dBm]'] = df['Average Magnitude [dBm]'].apply(lambda x: x if x >= overall_average else 0)\n"
     ]
    },
    {
     "data": {
      "text/html": [
       "<div>\n",
       "<style scoped>\n",
       "    .dataframe tbody tr th:only-of-type {\n",
       "        vertical-align: middle;\n",
       "    }\n",
       "\n",
       "    .dataframe tbody tr th {\n",
       "        vertical-align: top;\n",
       "    }\n",
       "\n",
       "    .dataframe thead th {\n",
       "        text-align: right;\n",
       "    }\n",
       "</style>\n",
       "<table border=\"1\" class=\"dataframe\">\n",
       "  <thead>\n",
       "    <tr style=\"text-align: right;\">\n",
       "      <th></th>\n",
       "      <th>Frequency [Hz]</th>\n",
       "      <th>Magnitude [dBm]</th>\n",
       "      <th>Magnitude [dBm]</th>\n",
       "      <th>Magnitude [dBm]</th>\n",
       "      <th>Magnitude [dBm]</th>\n",
       "      <th>Magnitude [dBm]</th>\n",
       "      <th>Magnitude [dBm]</th>\n",
       "      <th>Magnitude [dBm]</th>\n",
       "      <th>Magnitude [dBm]</th>\n",
       "      <th>Magnitude [dBm]</th>\n",
       "      <th>...</th>\n",
       "      <th>Magnitude [dBm]</th>\n",
       "      <th>Magnitude [dBm]</th>\n",
       "      <th>Magnitude [dBm]</th>\n",
       "      <th>Magnitude [dBm]</th>\n",
       "      <th>Magnitude [dBm]</th>\n",
       "      <th>Magnitude [dBm]</th>\n",
       "      <th>Magnitude [dBm]</th>\n",
       "      <th></th>\n",
       "      <th>Average Magnitude [dBm]</th>\n",
       "      <th>Filtered Average Magnitude [dBm]</th>\n",
       "    </tr>\n",
       "  </thead>\n",
       "  <tbody>\n",
       "    <tr>\n",
       "      <th>0</th>\n",
       "      <td>400000000</td>\n",
       "      <td>-88.7600326538086</td>\n",
       "      <td>-90.0662231445313</td>\n",
       "      <td>-91.677604675293</td>\n",
       "      <td>-89.3398818969727</td>\n",
       "      <td>-89.4680633544922</td>\n",
       "      <td>-88.9492492675781</td>\n",
       "      <td>-89.4497528076172</td>\n",
       "      <td>-89.5352020263672</td>\n",
       "      <td>-87.4721527099609</td>\n",
       "      <td>...</td>\n",
       "      <td>-84.4019927978516</td>\n",
       "      <td>-85.9584350585938</td>\n",
       "      <td>-90.0906372070313</td>\n",
       "      <td>-88.9187316894531</td>\n",
       "      <td>-91.805778503418</td>\n",
       "      <td>-91.0489196777344</td>\n",
       "      <td>-87.8749923706055</td>\n",
       "      <td>0</td>\n",
       "      <td>-89.098056</td>\n",
       "      <td>-89.098056</td>\n",
       "    </tr>\n",
       "    <tr>\n",
       "      <th>1</th>\n",
       "      <td>400079365.079365</td>\n",
       "      <td>-88.7600326538086</td>\n",
       "      <td>-90.0601196289063</td>\n",
       "      <td>-91.671501159668</td>\n",
       "      <td>-89.3398818969727</td>\n",
       "      <td>-89.4680633544922</td>\n",
       "      <td>-88.9492492675781</td>\n",
       "      <td>-89.4497528076172</td>\n",
       "      <td>-89.5352020263672</td>\n",
       "      <td>-87.4721527099609</td>\n",
       "      <td>...</td>\n",
       "      <td>-84.4019927978516</td>\n",
       "      <td>-85.9584350585938</td>\n",
       "      <td>-90.0906372070313</td>\n",
       "      <td>-88.9187316894531</td>\n",
       "      <td>-91.805778503418</td>\n",
       "      <td>-91.0489196777344</td>\n",
       "      <td>-87.8749923706055</td>\n",
       "      <td>0</td>\n",
       "      <td>-89.098300</td>\n",
       "      <td>-89.098300</td>\n",
       "    </tr>\n",
       "    <tr>\n",
       "      <th>2</th>\n",
       "      <td>400158730.15873</td>\n",
       "      <td>-89.7427291870117</td>\n",
       "      <td>-88.9736633300781</td>\n",
       "      <td>-89.3581924438477</td>\n",
       "      <td>-89.7244186401367</td>\n",
       "      <td>-87.3439712524414</td>\n",
       "      <td>-88.4060211181641</td>\n",
       "      <td>-90.3042678833008</td>\n",
       "      <td>-88.8576889038086</td>\n",
       "      <td>-86.7091903686523</td>\n",
       "      <td>...</td>\n",
       "      <td>-85.2504043579102</td>\n",
       "      <td>-86.7275009155273</td>\n",
       "      <td>-90.1821975708008</td>\n",
       "      <td>-87.9970703125</td>\n",
       "      <td>-91.854606628418</td>\n",
       "      <td>-89.2483291625977</td>\n",
       "      <td>-87.4904632568359</td>\n",
       "      <td>0</td>\n",
       "      <td>-89.239173</td>\n",
       "      <td>-89.239173</td>\n",
       "    </tr>\n",
       "    <tr>\n",
       "      <th>3</th>\n",
       "      <td>400238095.238095</td>\n",
       "      <td>-89.5229949951172</td>\n",
       "      <td>-88.8882141113281</td>\n",
       "      <td>-89.6023406982422</td>\n",
       "      <td>-89.2910537719727</td>\n",
       "      <td>-90.7559432983398</td>\n",
       "      <td>-89.2727432250977</td>\n",
       "      <td>-90.6704940795898</td>\n",
       "      <td>-90.9817810058594</td>\n",
       "      <td>-90.5117950439453</td>\n",
       "      <td>...</td>\n",
       "      <td>-83.834342956543</td>\n",
       "      <td>-85.7509078979492</td>\n",
       "      <td>-90.0967407226563</td>\n",
       "      <td>-89.3093643188477</td>\n",
       "      <td>-90.0662231445313</td>\n",
       "      <td>-90.1028442382813</td>\n",
       "      <td>-89.9746704101563</td>\n",
       "      <td>0</td>\n",
       "      <td>-89.166295</td>\n",
       "      <td>-89.166295</td>\n",
       "    </tr>\n",
       "    <tr>\n",
       "      <th>4</th>\n",
       "      <td>400317460.31746</td>\n",
       "      <td>-89.3703994750977</td>\n",
       "      <td>-91.5921478271484</td>\n",
       "      <td>-88.0703125</td>\n",
       "      <td>-88.9919738769531</td>\n",
       "      <td>-90.4446563720703</td>\n",
       "      <td>-89.0652160644531</td>\n",
       "      <td>-91.5555267333984</td>\n",
       "      <td>-88.7966537475586</td>\n",
       "      <td>-89.1995010375977</td>\n",
       "      <td>...</td>\n",
       "      <td>-86.4040069580078</td>\n",
       "      <td>-84.9757385253906</td>\n",
       "      <td>-89.5474090576172</td>\n",
       "      <td>-88.4243316650391</td>\n",
       "      <td>-91.720329284668</td>\n",
       "      <td>-89.1506729125977</td>\n",
       "      <td>-90.3347854614258</td>\n",
       "      <td>0</td>\n",
       "      <td>-89.890683</td>\n",
       "      <td>0.000000</td>\n",
       "    </tr>\n",
       "    <tr>\n",
       "      <th>...</th>\n",
       "      <td>...</td>\n",
       "      <td>...</td>\n",
       "      <td>...</td>\n",
       "      <td>...</td>\n",
       "      <td>...</td>\n",
       "      <td>...</td>\n",
       "      <td>...</td>\n",
       "      <td>...</td>\n",
       "      <td>...</td>\n",
       "      <td>...</td>\n",
       "      <td>...</td>\n",
       "      <td>...</td>\n",
       "      <td>...</td>\n",
       "      <td>...</td>\n",
       "      <td>...</td>\n",
       "      <td>...</td>\n",
       "      <td>...</td>\n",
       "      <td>...</td>\n",
       "      <td>...</td>\n",
       "      <td>...</td>\n",
       "      <td>...</td>\n",
       "    </tr>\n",
       "    <tr>\n",
       "      <th>626</th>\n",
       "      <td>449682539.68254</td>\n",
       "      <td>-90.0723266601563</td>\n",
       "      <td>-93.0082092285156</td>\n",
       "      <td>-93.0875549316406</td>\n",
       "      <td>-91.1954116821289</td>\n",
       "      <td>-91.5799407958984</td>\n",
       "      <td>-91.8973388671875</td>\n",
       "      <td>-93.2523574829102</td>\n",
       "      <td>-91.0184020996094</td>\n",
       "      <td>-94.8026962280273</td>\n",
       "      <td>...</td>\n",
       "      <td>-94.0946655273438</td>\n",
       "      <td>-93.9176635742188</td>\n",
       "      <td>-90.2676467895508</td>\n",
       "      <td>-95.4191741943359</td>\n",
       "      <td>-92.9166564941406</td>\n",
       "      <td>-93.7406539916992</td>\n",
       "      <td>-91.3235855102539</td>\n",
       "      <td>0</td>\n",
       "      <td>-93.239418</td>\n",
       "      <td>0.000000</td>\n",
       "    </tr>\n",
       "    <tr>\n",
       "      <th>627</th>\n",
       "      <td>449761904.761905</td>\n",
       "      <td>-91.5311126708984</td>\n",
       "      <td>-90.8413925170898</td>\n",
       "      <td>-91.1587905883789</td>\n",
       "      <td>-90.9756774902344</td>\n",
       "      <td>-91.8912353515625</td>\n",
       "      <td>-93.2950820922852</td>\n",
       "      <td>-92.7579574584961</td>\n",
       "      <td>-90.5667266845703</td>\n",
       "      <td>-91.5005950927734</td>\n",
       "      <td>...</td>\n",
       "      <td>-92.7335433959961</td>\n",
       "      <td>-93.0509338378906</td>\n",
       "      <td>-90.9085388183594</td>\n",
       "      <td>-94.8026962280273</td>\n",
       "      <td>-95.4130706787109</td>\n",
       "      <td>-94.5280303955078</td>\n",
       "      <td>-93.5819549560547</td>\n",
       "      <td>0</td>\n",
       "      <td>-92.829249</td>\n",
       "      <td>0.000000</td>\n",
       "    </tr>\n",
       "    <tr>\n",
       "      <th>628</th>\n",
       "      <td>449841269.84127</td>\n",
       "      <td>-90.9695739746094</td>\n",
       "      <td>-92.1231689453125</td>\n",
       "      <td>-91.799674987793</td>\n",
       "      <td>-92.4344635009766</td>\n",
       "      <td>-92.287971496582</td>\n",
       "      <td>-92.312385559082</td>\n",
       "      <td>-93.3133926391602</td>\n",
       "      <td>-91.9827880859375</td>\n",
       "      <td>-92.8434066772461</td>\n",
       "      <td>...</td>\n",
       "      <td>-91.9583740234375</td>\n",
       "      <td>-92.7152328491211</td>\n",
       "      <td>-91.1404800415039</td>\n",
       "      <td>-93.7589645385742</td>\n",
       "      <td>-94.2838821411133</td>\n",
       "      <td>-93.1669082641602</td>\n",
       "      <td>-93.9970092773438</td>\n",
       "      <td>0</td>\n",
       "      <td>-92.840479</td>\n",
       "      <td>0.000000</td>\n",
       "    </tr>\n",
       "    <tr>\n",
       "      <th>629</th>\n",
       "      <td>449920634.920635</td>\n",
       "      <td>-89.7732467651367</td>\n",
       "      <td>-92.281867980957</td>\n",
       "      <td>-94.3388137817383</td>\n",
       "      <td>-91.9644775390625</td>\n",
       "      <td>-93.1180725097656</td>\n",
       "      <td>-93.9420776367188</td>\n",
       "      <td>-91.5311126708984</td>\n",
       "      <td>-91.866813659668</td>\n",
       "      <td>-91.1343765258789</td>\n",
       "      <td>...</td>\n",
       "      <td>-90.8719100952148</td>\n",
       "      <td>-93.4171600341797</td>\n",
       "      <td>-90.5667266845703</td>\n",
       "      <td>-92.275764465332</td>\n",
       "      <td>-92.3856353759766</td>\n",
       "      <td>-93.2035293579102</td>\n",
       "      <td>-94.6012725830078</td>\n",
       "      <td>0</td>\n",
       "      <td>-93.121861</td>\n",
       "      <td>0.000000</td>\n",
       "    </tr>\n",
       "    <tr>\n",
       "      <th>630</th>\n",
       "      <td>450000000</td>\n",
       "      <td>-91.5433197021484</td>\n",
       "      <td>-91.2015151977539</td>\n",
       "      <td>-92.5931549072266</td>\n",
       "      <td>-91.830192565918</td>\n",
       "      <td>-92.275764465332</td>\n",
       "      <td>-93.2584609985352</td>\n",
       "      <td>-93.0082092285156</td>\n",
       "      <td>-90.2737503051758</td>\n",
       "      <td>-90.4629669189453</td>\n",
       "      <td>...</td>\n",
       "      <td>-90.5056915283203</td>\n",
       "      <td>-89.9380493164063</td>\n",
       "      <td>-91.0122985839844</td>\n",
       "      <td>-95.895263671875</td>\n",
       "      <td>-93.5575408935547</td>\n",
       "      <td>-91.0367126464844</td>\n",
       "      <td>-93.8688278198242</td>\n",
       "      <td>0</td>\n",
       "      <td>-92.375743</td>\n",
       "      <td>0.000000</td>\n",
       "    </tr>\n",
       "  </tbody>\n",
       "</table>\n",
       "<p>631 rows × 1027 columns</p>\n",
       "</div>"
      ],
      "text/plain": [
       "       Frequency [Hz]    Magnitude [dBm]    Magnitude [dBm]  \\\n",
       "0           400000000  -88.7600326538086  -90.0662231445313   \n",
       "1    400079365.079365  -88.7600326538086  -90.0601196289063   \n",
       "2     400158730.15873  -89.7427291870117  -88.9736633300781   \n",
       "3    400238095.238095  -89.5229949951172  -88.8882141113281   \n",
       "4     400317460.31746  -89.3703994750977  -91.5921478271484   \n",
       "..                ...                ...                ...   \n",
       "626   449682539.68254  -90.0723266601563  -93.0082092285156   \n",
       "627  449761904.761905  -91.5311126708984  -90.8413925170898   \n",
       "628   449841269.84127  -90.9695739746094  -92.1231689453125   \n",
       "629  449920634.920635  -89.7732467651367   -92.281867980957   \n",
       "630         450000000  -91.5433197021484  -91.2015151977539   \n",
       "\n",
       "       Magnitude [dBm]    Magnitude [dBm]    Magnitude [dBm]  \\\n",
       "0     -91.677604675293  -89.3398818969727  -89.4680633544922   \n",
       "1     -91.671501159668  -89.3398818969727  -89.4680633544922   \n",
       "2    -89.3581924438477  -89.7244186401367  -87.3439712524414   \n",
       "3    -89.6023406982422  -89.2910537719727  -90.7559432983398   \n",
       "4          -88.0703125  -88.9919738769531  -90.4446563720703   \n",
       "..                 ...                ...                ...   \n",
       "626  -93.0875549316406  -91.1954116821289  -91.5799407958984   \n",
       "627  -91.1587905883789  -90.9756774902344  -91.8912353515625   \n",
       "628   -91.799674987793  -92.4344635009766   -92.287971496582   \n",
       "629  -94.3388137817383  -91.9644775390625  -93.1180725097656   \n",
       "630  -92.5931549072266   -91.830192565918   -92.275764465332   \n",
       "\n",
       "       Magnitude [dBm]    Magnitude [dBm]    Magnitude [dBm]  \\\n",
       "0    -88.9492492675781  -89.4497528076172  -89.5352020263672   \n",
       "1    -88.9492492675781  -89.4497528076172  -89.5352020263672   \n",
       "2    -88.4060211181641  -90.3042678833008  -88.8576889038086   \n",
       "3    -89.2727432250977  -90.6704940795898  -90.9817810058594   \n",
       "4    -89.0652160644531  -91.5555267333984  -88.7966537475586   \n",
       "..                 ...                ...                ...   \n",
       "626  -91.8973388671875  -93.2523574829102  -91.0184020996094   \n",
       "627  -93.2950820922852  -92.7579574584961  -90.5667266845703   \n",
       "628   -92.312385559082  -93.3133926391602  -91.9827880859375   \n",
       "629  -93.9420776367188  -91.5311126708984   -91.866813659668   \n",
       "630  -93.2584609985352  -93.0082092285156  -90.2737503051758   \n",
       "\n",
       "       Magnitude [dBm]  ...    Magnitude [dBm]    Magnitude [dBm]  \\\n",
       "0    -87.4721527099609  ...  -84.4019927978516  -85.9584350585938   \n",
       "1    -87.4721527099609  ...  -84.4019927978516  -85.9584350585938   \n",
       "2    -86.7091903686523  ...  -85.2504043579102  -86.7275009155273   \n",
       "3    -90.5117950439453  ...   -83.834342956543  -85.7509078979492   \n",
       "4    -89.1995010375977  ...  -86.4040069580078  -84.9757385253906   \n",
       "..                 ...  ...                ...                ...   \n",
       "626  -94.8026962280273  ...  -94.0946655273438  -93.9176635742188   \n",
       "627  -91.5005950927734  ...  -92.7335433959961  -93.0509338378906   \n",
       "628  -92.8434066772461  ...  -91.9583740234375  -92.7152328491211   \n",
       "629  -91.1343765258789  ...  -90.8719100952148  -93.4171600341797   \n",
       "630  -90.4629669189453  ...  -90.5056915283203  -89.9380493164063   \n",
       "\n",
       "       Magnitude [dBm]    Magnitude [dBm]    Magnitude [dBm]  \\\n",
       "0    -90.0906372070313  -88.9187316894531   -91.805778503418   \n",
       "1    -90.0906372070313  -88.9187316894531   -91.805778503418   \n",
       "2    -90.1821975708008     -87.9970703125   -91.854606628418   \n",
       "3    -90.0967407226563  -89.3093643188477  -90.0662231445313   \n",
       "4    -89.5474090576172  -88.4243316650391   -91.720329284668   \n",
       "..                 ...                ...                ...   \n",
       "626  -90.2676467895508  -95.4191741943359  -92.9166564941406   \n",
       "627  -90.9085388183594  -94.8026962280273  -95.4130706787109   \n",
       "628  -91.1404800415039  -93.7589645385742  -94.2838821411133   \n",
       "629  -90.5667266845703   -92.275764465332  -92.3856353759766   \n",
       "630  -91.0122985839844   -95.895263671875  -93.5575408935547   \n",
       "\n",
       "       Magnitude [dBm]    Magnitude [dBm]    Average Magnitude [dBm]  \\\n",
       "0    -91.0489196777344  -87.8749923706055  0              -89.098056   \n",
       "1    -91.0489196777344  -87.8749923706055  0              -89.098300   \n",
       "2    -89.2483291625977  -87.4904632568359  0              -89.239173   \n",
       "3    -90.1028442382813  -89.9746704101563  0              -89.166295   \n",
       "4    -89.1506729125977  -90.3347854614258  0              -89.890683   \n",
       "..                 ...                ... ..                     ...   \n",
       "626  -93.7406539916992  -91.3235855102539  0              -93.239418   \n",
       "627  -94.5280303955078  -93.5819549560547  0              -92.829249   \n",
       "628  -93.1669082641602  -93.9970092773438  0              -92.840479   \n",
       "629  -93.2035293579102  -94.6012725830078  0              -93.121861   \n",
       "630  -91.0367126464844  -93.8688278198242  0              -92.375743   \n",
       "\n",
       "    Filtered Average Magnitude [dBm]  \n",
       "0                         -89.098056  \n",
       "1                         -89.098300  \n",
       "2                         -89.239173  \n",
       "3                         -89.166295  \n",
       "4                           0.000000  \n",
       "..                               ...  \n",
       "626                         0.000000  \n",
       "627                         0.000000  \n",
       "628                         0.000000  \n",
       "629                         0.000000  \n",
       "630                         0.000000  \n",
       "\n",
       "[631 rows x 1027 columns]"
      ]
     },
     "execution_count": 4,
     "metadata": {},
     "output_type": "execute_result"
    }
   ],
   "source": [
    "# Seleccionar solo las columnas de Magnitudes (ignorando la primera columna que es la frecuencia)\n",
    "magnitude_columns = df.columns[1:]\n",
    "\n",
    "# Tomar 50 columnas aleatorias de las columnas de magnitud\n",
    "random_columns = df[magnitude_columns].sample(n=50, axis=1, random_state=42)  # random_state es para reproducibilidad\n",
    "\n",
    "# Convertir las columnas seleccionadas a tipo float (reemplazar errores con 0 si es necesario)\n",
    "random_columns = random_columns.apply(pd.to_numeric, errors='coerce').fillna(0)\n",
    "\n",
    "# Calcular el promedio de magnitudes por fila solo con las 50 columnas aleatorias\n",
    "df['Average Magnitude [dBm]'] = random_columns.mean(axis=1)\n",
    "\n",
    "# Calcular el promedio general de todas las filas de 'Average Magnitude [dBm]'\n",
    "overall_average = df['Average Magnitude [dBm]'].mean()\n",
    "\n",
    "# Aplicar la condición de dejar a 0 los valores por debajo del promedio general\n",
    "df['Filtered Average Magnitude [dBm]'] = df['Average Magnitude [dBm]'].apply(lambda x: x if x >= overall_average else 0)\n",
    "\n",
    "# Mostrar el DataFrame con las columnas seleccionadas, el nuevo promedio y el promedio filtrado\n",
    "print(df[['Frequency [Hz]', 'Average Magnitude [dBm]', 'Filtered Average Magnitude [dBm]']])\n",
    "\n",
    "df"
   ]
  },
  {
   "cell_type": "code",
   "execution_count": 5,
   "metadata": {},
   "outputs": [
    {
     "name": "stdout",
     "output_type": "stream",
     "text": [
      "[(4, -89.09805603027344), (413, -89.05606292724609), (437, -89.35245864868165), (544, -69.69951499938966), (554, -86.25641632080078)]\n"
     ]
    }
   ],
   "source": [
    "max = -9999999\n",
    "values = []\n",
    "for index, value in df['Filtered Average Magnitude [dBm]'].items():\n",
    "    if value > max and value != 0:\n",
    "        max = value\n",
    "    if value == 0 and max != -9999999:\n",
    "        values.append((index, max))\n",
    "        max = -9999999\n",
    "print(values)"
   ]
  },
  {
   "cell_type": "code",
   "execution_count": 6,
   "metadata": {},
   "outputs": [],
   "source": [
    "df['Frequency [Hz]'] = pd.to_numeric(df['Frequency [Hz]'], errors='coerce')\n",
    "df['Average Magnitude [dBm]'] = pd.to_numeric(df['Average Magnitude [dBm]'], errors='coerce')"
   ]
  },
  {
   "cell_type": "code",
   "execution_count": 7,
   "metadata": {},
   "outputs": [],
   "source": [
    "one = None\n",
    "two = None\n",
    "for index, value in values:\n",
    "    if (df[\"Frequency [Hz]\"][index] >= 430 and df[\"Frequency [Hz]\"][index] <= 440) and (two is None or df[\"Frequency [Hz]\"][two] < df[\"Frequency [Hz]\"][index]):\n",
    "        two = index - 1\n",
    "    elif one is None or df[\"Frequency [Hz]\"][index] > df[\"Frequency [Hz]\"][one]:\n",
    "        one = index - 1"
   ]
  },
  {
   "cell_type": "code",
   "execution_count": 8,
   "metadata": {},
   "outputs": [],
   "source": [
    "datos_one_mag = []\n",
    "datos_one_frec = []\n",
    "if one is not None:\n",
    "    min_one = None\n",
    "    max_one = None\n",
    "    one_step = one\n",
    "    while 0 < one_step:\n",
    "        one_step -= 1\n",
    "    min_one = one_step\n",
    "    while df[\"Filtered Average Magnitude [dBm]\"][one_step] != 0:\n",
    "        one_step += 1\n",
    "        datos_one_mag.append(df[\"Filtered Average Magnitude [dBm]\"][one_step])\n",
    "        datos_one_frec.append(df[\"Frequency [Hz]\"][one_step])\n",
    "    max_one = one_step"
   ]
  },
  {
   "cell_type": "code",
   "execution_count": 9,
   "metadata": {},
   "outputs": [],
   "source": [
    "datos_two_mag = []\n",
    "datos_two_frec = []\n",
    "if two is not None:\n",
    "    min_two = None\n",
    "    max_two = None\n",
    "    two_step = two\n",
    "    while 0 < two_step:\n",
    "        two_step -= 1\n",
    "    min_two = two_step\n",
    "    while df[\"Filtered Average Magnitude [dBm]\"][two_step] != 0:\n",
    "        two_step += 1\n",
    "        datos_two_mag.append(df[\"Filtered Average Magnitude [dBm]\"][two_step])\n",
    "        datos_two_frec.append(df[\"Frequency [Hz]\"][two_step])\n",
    "    max_two = two_step"
   ]
  },
  {
   "cell_type": "code",
   "execution_count": 10,
   "metadata": {},
   "outputs": [],
   "source": [
    "# Función para crear un histograma basado en magnitud y frecuencia\n",
    "def crear_histograma(frecuencia, magnitud, titulo):\n",
    "    plt.figure(figsize=(10, 6))\n",
    "    plt.bar(frecuencia, magnitud, width=500000, edgecolor='black')  # La barra se muestra por frecuencia\n",
    "    plt.title(f'Histograma de {titulo}')\n",
    "    plt.xlabel('Frecuencia [Hz]')\n",
    "    plt.ylabel('Magnitud [dBm]')\n",
    "    plt.show()"
   ]
  },
  {
   "cell_type": "code",
   "execution_count": 11,
   "metadata": {},
   "outputs": [
    {
     "data": {
      "image/png": "[encoded data removed]",
      "text/plain": [
       "<Figure size 1000x600 with 1 Axes>"
      ]
     },
     "metadata": {},
     "output_type": "display_data"
    }
   ],
   "source": [
    "# Histograma para la primera isla (one)\n",
    "if datos_one_mag and datos_one_frec:\n",
    "    crear_histograma(datos_one_frec, datos_one_mag, \"Primera Isla (One)\")"
   ]
  },
  {
   "cell_type": "code",
   "execution_count": 12,
   "metadata": {},
   "outputs": [],
   "source": [
    "# Histograma para la segunda isla (two)\n",
    "if datos_two_mag and datos_two_frec:\n",
    "    crear_histograma(datos_two_frec, datos_two_mag, \"Segunda Isla (Two)\")"
   ]
  },
  {
   "cell_type": "code",
   "execution_count": 13,
   "metadata": {},
   "outputs": [],
   "source": [
    "# 1. Frecuencia central: La frecuencia en la cual la señal tiene su mayor amplitud.\n",
    "def calcular_frecuencia_central(df):\n",
    "    max_index = df['Filtered Average Magnitude [dBm]'].idxmax()  # Índice de la magnitud máxima\n",
    "    return df['Frequency [Hz]'][max_index]  # Frecuencia correspondiente"
   ]
  },
  {
   "cell_type": "code",
   "execution_count": 14,
   "metadata": {},
   "outputs": [],
   "source": [
    "# 2. Ancho de banda (BW): Diferencia entre la frecuencia mínima y máxima dentro del rango de la señal.\n",
    "def calcular_ancho_de_banda(df):\n",
    "    freqs_con_magnitud = df[df['Filtered Average Magnitude [dBm]'] != 0]['Frequency [Hz]']\n",
    "    return (freqs_con_magnitud.max() - freqs_con_magnitud.min())"
   ]
  },
  {
   "cell_type": "code",
   "execution_count": 15,
   "metadata": {},
   "outputs": [],
   "source": [
    "# 3. Amplitud/Potencia: Máxima potencia de la señal (en dBm).\n",
    "def calcular_amplitud(df):\n",
    "    return df['Filtered Average Magnitude [dBm]'].max()\n"
   ]
  },
  {
   "cell_type": "code",
   "execution_count": 16,
   "metadata": {},
   "outputs": [],
   "source": [
    "# 4. Nivel de ruido: Promedio de las magnitudes que están por debajo de un umbral bajo (considerado como ruido).\n",
    "def calcular_nivel_ruido(df, umbral_ruido=-100):\n",
    "    ruido = df[df['Filtered Average Magnitude [dBm]'] < umbral_ruido]['Filtered Average Magnitude [dBm]']\n",
    "    return ruido.mean() if not ruido.empty else None"
   ]
  },
  {
   "cell_type": "code",
   "execution_count": 17,
   "metadata": {},
   "outputs": [],
   "source": [
    "# 5. Relación señal-ruido (SNR): La diferencia entre la amplitud máxima y el nivel de ruido.\n",
    "def calcular_snr(df, umbral_ruido=-100):\n",
    "    amplitud_max = calcular_amplitud(df)\n",
    "    nivel_ruido = calcular_nivel_ruido(df, umbral_ruido)\n",
    "    return amplitud_max - nivel_ruido if nivel_ruido is not None else None"
   ]
  },
  {
   "cell_type": "code",
   "execution_count": 18,
   "metadata": {},
   "outputs": [],
   "source": [
    "# 6. Picos espectrales: Puntos donde la amplitud es máxima dentro del ancho de banda.\n",
    "def encontrar_picos(df):\n",
    "    return df[df['Filtered Average Magnitude [dBm]'] > 0][['Frequency [Hz]', 'Filtered Average Magnitude [dBm]']]"
   ]
  },
  {
   "cell_type": "code",
   "execution_count": 19,
   "metadata": {},
   "outputs": [],
   "source": [
    "# 7. Frecuencias espurias: Señales indeseadas que están lejos de la señal principal.\n",
    "def encontrar_frecuencias_espurias(df, umbral=-80):\n",
    "    espurias = df[df['Filtered Average Magnitude [dBm]'] < umbral]\n",
    "    return espurias[['Frequency [Hz]', 'Filtered Average Magnitude [dBm]']]"
   ]
  },
  {
   "cell_type": "code",
   "execution_count": 20,
   "metadata": {},
   "outputs": [],
   "source": [
    "# 8. Drift de frecuencia: Cambios en la frecuencia central de la señal a lo largo del tiempo.\n",
    "def calcular_drift_frecuencia(frecuencia_inicial, frecuencia_final):\n",
    "    return frecuencia_final - frecuencia_inicial"
   ]
  },
  {
   "cell_type": "code",
   "execution_count": 21,
   "metadata": {},
   "outputs": [],
   "source": [
    "# 9. Tiempo de ocupación: Tiempo durante el cual la señal está presente (puedes definir los datos temporales si están disponibles).\n",
    "def calcular_tiempo_ocupacion(tiempos):\n",
    "    return tiempos.max() - tiempos.min()"
   ]
  },
  {
   "cell_type": "code",
   "execution_count": 22,
   "metadata": {},
   "outputs": [],
   "source": [
    "# 10. Crest factor: Relación entre el pico de la señal y su valor RMS (Root Mean Square).\n",
    "def calcular_crest_factor(df):\n",
    "    pico = calcular_amplitud(df)\n",
    "    rms = np.sqrt(np.mean(np.square(df['Filtered Average Magnitude [dBm]'])))\n",
    "    return pico / rms if rms != 0 else None"
   ]
  },
  {
   "cell_type": "code",
   "execution_count": 23,
   "metadata": {},
   "outputs": [],
   "source": [
    "# Datos de prueba\n",
    "data = {\n",
    "    'Frequency [Hz]': np.linspace(0, 1000000, 100),\n",
    "    'Filtered Average Magnitude [dBm]': np.random.uniform(-120, 0, 100)\n",
    "}\n",
    "df = pd.DataFrame(data)"
   ]
  },
  {
   "cell_type": "code",
   "execution_count": 24,
   "metadata": {},
   "outputs": [
    {
     "data": {
      "image/png": "[encoded data removed]",
      "text/plain": [
       "<Figure size 1000x600 with 1 Axes>"
      ]
     },
     "metadata": {},
     "output_type": "display_data"
    },
    {
     "data": {
      "image/png": "[encoded data removed]",
      "text/plain": [
       "<Figure size 1000x600 with 1 Axes>"
      ]
     },
     "metadata": {},
     "output_type": "display_data"
    }
   ],
   "source": [
    "# Histograma de prueba\n",
    "datos_one_mag = df['Filtered Average Magnitude [dBm]'][:50]\n",
    "datos_one_frec = df['Frequency [Hz]'][:50]\n",
    "\n",
    "datos_two_mag = df['Filtered Average Magnitude [dBm]'][50:]\n",
    "datos_two_frec = df['Frequency [Hz]'][50:]\n",
    "\n",
    "# Prueba de creación de histogramas\n",
    "if datos_one_mag.any() and datos_one_frec.any():\n",
    "    crear_histograma(datos_one_frec, datos_one_mag, \"Primera Isla (One)\")\n",
    "\n",
    "if datos_two_mag.any() and datos_two_frec.any():\n",
    "    crear_histograma(datos_two_frec, datos_two_mag, \"Segunda Isla (Two)\")"
   ]
  },
  {
   "cell_type": "code",
   "execution_count": 25,
   "metadata": {},
   "outputs": [
    {
     "name": "stdout",
     "output_type": "stream",
     "text": [
      "Frecuencia central: 202020.202020202\n"
     ]
    }
   ],
   "source": [
    "# 1. Prueba de frecuencia central\n",
    "frecuencia_central = calcular_frecuencia_central(df)\n",
    "print(\"Frecuencia central:\", frecuencia_central)"
   ]
  },
  {
   "cell_type": "code",
   "execution_count": 26,
   "metadata": {},
   "outputs": [
    {
     "name": "stdout",
     "output_type": "stream",
     "text": [
      "Ancho de banda: 1000000.0\n"
     ]
    }
   ],
   "source": [
    "# 2. Prueba de ancho de banda\n",
    "ancho_banda = calcular_ancho_de_banda(df)\n",
    "print(\"Ancho de banda:\", ancho_banda)"
   ]
  },
  {
   "cell_type": "code",
   "execution_count": 27,
   "metadata": {},
   "outputs": [
    {
     "name": "stdout",
     "output_type": "stream",
     "text": [
      "Amplitud máxima: -4.086125893050877\n"
     ]
    }
   ],
   "source": [
    "# 3. Prueba de amplitud\n",
    "amplitud = calcular_amplitud(df)\n",
    "print(\"Amplitud máxima:\", amplitud)"
   ]
  },
  {
   "cell_type": "code",
   "execution_count": 28,
   "metadata": {},
   "outputs": [
    {
     "name": "stdout",
     "output_type": "stream",
     "text": [
      "Nivel de ruido: -109.34048005378004\n"
     ]
    }
   ],
   "source": [
    "# 4. Prueba de nivel de ruido\n",
    "nivel_ruido = calcular_nivel_ruido(df, umbral_ruido=-100)\n",
    "print(\"Nivel de ruido:\", nivel_ruido)"
   ]
  },
  {
   "cell_type": "code",
   "execution_count": 29,
   "metadata": {},
   "outputs": [
    {
     "name": "stdout",
     "output_type": "stream",
     "text": [
      "Relación señal-ruido (SNR): 105.25435416072916\n"
     ]
    }
   ],
   "source": [
    "# 5. Prueba de relación señal-ruido (SNR)\n",
    "snr = calcular_snr(df, umbral_ruido=-100)\n",
    "print(\"Relación señal-ruido (SNR):\", snr)"
   ]
  },
  {
   "cell_type": "code",
   "execution_count": 30,
   "metadata": {},
   "outputs": [
    {
     "name": "stdout",
     "output_type": "stream",
     "text": [
      "Picos espectrales:\n",
      " Empty DataFrame\n",
      "Columns: [Frequency [Hz], Filtered Average Magnitude [dBm]]\n",
      "Index: []\n"
     ]
    }
   ],
   "source": [
    "# 6. Prueba de picos espectrales\n",
    "picos = encontrar_picos(df)\n",
    "print(\"Picos espectrales:\\n\", picos)"
   ]
  },
  {
   "cell_type": "code",
   "execution_count": 31,
   "metadata": {},
   "outputs": [
    {
     "name": "stdout",
     "output_type": "stream",
     "text": [
      "Frecuencias espurias:\n",
      "     Frequency [Hz]  Filtered Average Magnitude [dBm]\n",
      "1     10101.010101                       -109.421239\n",
      "2     20202.020202                        -99.570820\n",
      "3     30303.030303                       -108.652010\n",
      "7     70707.070707                        -95.543701\n",
      "8     80808.080808                        -87.092298\n",
      "9     90909.090909                       -100.462522\n",
      "16   161616.161616                        -86.434085\n",
      "21   212121.212121                       -113.573105\n",
      "24   242424.242424                        -83.546665\n",
      "25   252525.252525                        -88.735678\n",
      "27   272727.272727                        -95.300279\n",
      "28   282828.282828                       -100.486487\n",
      "29   292929.292929                       -111.828840\n",
      "30   303030.303030                        -80.871090\n",
      "31   313131.313131                       -116.747224\n",
      "32   323232.323232                        -80.349478\n",
      "34   343434.343434                        -91.916233\n",
      "39   393939.393939                       -114.674237\n",
      "40   404040.404040                        -85.608154\n",
      "45   454545.454545                        -94.417898\n",
      "46   464646.464646                       -112.430358\n",
      "55   555555.555556                        -92.330032\n",
      "56   565656.565657                        -92.844827\n",
      "59   595959.595960                       -109.461905\n",
      "64   646464.646465                       -103.779829\n",
      "70   707070.707071                        -89.430741\n",
      "73   737373.737374                       -104.576797\n",
      "75   757575.757576                       -106.247426\n",
      "78   787878.787879                        -91.733324\n",
      "82   828282.828283                        -87.303877\n",
      "85   858585.858586                        -86.457542\n",
      "86   868686.868687                        -91.165217\n",
      "89   898989.898990                        -92.341291\n",
      "92   929292.929293                       -110.327742\n",
      "97   979797.979798                        -81.909260\n",
      "99  1000000.000000                       -117.437480\n"
     ]
    }
   ],
   "source": [
    "# 7. Prueba de frecuencias espurias\n",
    "frecuencias_espurias = encontrar_frecuencias_espurias(df, umbral=-80)\n",
    "print(\"Frecuencias espurias:\\n\", frecuencias_espurias)"
   ]
  },
  {
   "cell_type": "code",
   "execution_count": 32,
   "metadata": {},
   "outputs": [
    {
     "name": "stdout",
     "output_type": "stream",
     "text": [
      "Drift de frecuencia: 100000\n"
     ]
    }
   ],
   "source": [
    "# 8. Prueba de drift de frecuencia\n",
    "frecuencia_inicial = 500000\n",
    "frecuencia_final = 600000\n",
    "drift = calcular_drift_frecuencia(frecuencia_inicial, frecuencia_final)\n",
    "print(\"Drift de frecuencia:\", drift)"
   ]
  },
  {
   "cell_type": "code",
   "execution_count": 33,
   "metadata": {},
   "outputs": [
    {
     "name": "stdout",
     "output_type": "stream",
     "text": [
      "Tiempo de ocupación: 10.0\n"
     ]
    }
   ],
   "source": [
    "# 9. Prueba de tiempo de ocupación\n",
    "tiempos = pd.Series(np.linspace(0, 10, 100))  # Simulando tiempos de 0 a 10 segundos\n",
    "tiempo_ocupacion = calcular_tiempo_ocupacion(tiempos)\n",
    "print(\"Tiempo de ocupación:\", tiempo_ocupacion)"
   ]
  },
  {
   "cell_type": "code",
   "execution_count": 34,
   "metadata": {},
   "outputs": [
    {
     "name": "stdout",
     "output_type": "stream",
     "text": [
      "Crest factor: -0.05910181743338322\n"
     ]
    }
   ],
   "source": [
    "# 10. Prueba de crest factor\n",
    "crest_factor = calcular_crest_factor(df)\n",
    "print(\"Crest factor:\", crest_factor)"
   ]
  },
  {
   "cell_type": "code",
   "execution_count": 35,
   "metadata": {},
   "outputs": [],
   "source": [
    "def graficar_forma_de_senal(df):\n",
    "    plt.figure(figsize=(10, 6))\n",
    "    plt.plot(df['Frequency [Hz]'], df['Filtered Average Magnitude [dBm]'])\n",
    "    plt.title('Forma de la señal')\n",
    "    plt.xlabel('Frecuencia [Hz]')\n",
    "    plt.ylabel('Magnitud [dBm]')\n",
    "    plt.grid(True)\n",
    "    plt.show()"
   ]
  },
  {
   "cell_type": "code",
   "execution_count": 36,
   "metadata": {},
   "outputs": [],
   "source": [
    "def encontrar_frecuencias_armonicas(df, frecuencia_fundamental):\n",
    "    armonicas = df[df['Frequency [Hz]'] % frecuencia_fundamental == 0]\n",
    "    return armonicas[['Frequency [Hz]', 'Filtered Average Magnitude [dBm]']]"
   ]
  },
  {
   "cell_type": "code",
   "execution_count": 37,
   "metadata": {},
   "outputs": [],
   "source": [
    "def encontrar_interferencias(df, umbral=-80):\n",
    "    interferencias = df[df['Filtered Average Magnitude [dBm]'] < umbral]\n",
    "    return interferencias[['Frequency [Hz]', 'Filtered Average Magnitude [dBm]']]"
   ]
  },
  {
   "cell_type": "code",
   "execution_count": 38,
   "metadata": {},
   "outputs": [],
   "source": [
    "def analizar_ancho_de_banda_ocupacion(df):\n",
    "    freqs_con_magnitud = df[df['Filtered Average Magnitude [dBm]'] != 0]['Frequency [Hz]']\n",
    "    return freqs_con_magnitud.max() - freqs_con_magnitud.min()"
   ]
  },
  {
   "cell_type": "code",
   "execution_count": 39,
   "metadata": {},
   "outputs": [],
   "source": [
    "def calcular_frecuencia_repeticion_pulso(tiempos):\n",
    "    # Asume que tienes datos de tiempo donde se detectan los pulsos\n",
    "    if len(tiempos) < 2:\n",
    "        return None\n",
    "    difs = np.diff(tiempos)\n",
    "    return 1 / difs.mean()  # La PRF es el inverso del tiempo promedio entre pulsos"
   ]
  },
  {
   "cell_type": "code",
   "execution_count": 40,
   "metadata": {},
   "outputs": [
    {
     "data": {
      "image/png": "[encoded data removed]",
      "text/plain": [
       "<Figure size 1000x600 with 1 Axes>"
      ]
     },
     "metadata": {},
     "output_type": "display_data"
    }
   ],
   "source": [
    "graficar_forma_de_senal(df)"
   ]
  },
  {
   "cell_type": "code",
   "execution_count": 41,
   "metadata": {},
   "outputs": [
    {
     "data": {
      "text/html": [
       "<div>\n",
       "<style scoped>\n",
       "    .dataframe tbody tr th:only-of-type {\n",
       "        vertical-align: middle;\n",
       "    }\n",
       "\n",
       "    .dataframe tbody tr th {\n",
       "        vertical-align: top;\n",
       "    }\n",
       "\n",
       "    .dataframe thead th {\n",
       "        text-align: right;\n",
       "    }\n",
       "</style>\n",
       "<table border=\"1\" class=\"dataframe\">\n",
       "  <thead>\n",
       "    <tr style=\"text-align: right;\">\n",
       "      <th></th>\n",
       "      <th>Frequency [Hz]</th>\n",
       "      <th>Filtered Average Magnitude [dBm]</th>\n",
       "    </tr>\n",
       "  </thead>\n",
       "  <tbody>\n",
       "    <tr>\n",
       "      <th>0</th>\n",
       "      <td>0.0</td>\n",
       "      <td>-36.467377</td>\n",
       "    </tr>\n",
       "    <tr>\n",
       "      <th>99</th>\n",
       "      <td>1000000.0</td>\n",
       "      <td>-117.437480</td>\n",
       "    </tr>\n",
       "  </tbody>\n",
       "</table>\n",
       "</div>"
      ],
      "text/plain": [
       "    Frequency [Hz]  Filtered Average Magnitude [dBm]\n",
       "0              0.0                        -36.467377\n",
       "99       1000000.0                       -117.437480"
      ]
     },
     "execution_count": 41,
     "metadata": {},
     "output_type": "execute_result"
    }
   ],
   "source": [
    "encontrar_frecuencias_armonicas(df, frecuencia_fundamental=1000)"
   ]
  },
  {
   "cell_type": "code",
   "execution_count": 42,
   "metadata": {},
   "outputs": [
    {
     "data": {
      "text/html": [
       "<div>\n",
       "<style scoped>\n",
       "    .dataframe tbody tr th:only-of-type {\n",
       "        vertical-align: middle;\n",
       "    }\n",
       "\n",
       "    .dataframe tbody tr th {\n",
       "        vertical-align: top;\n",
       "    }\n",
       "\n",
       "    .dataframe thead th {\n",
       "        text-align: right;\n",
       "    }\n",
       "</style>\n",
       "<table border=\"1\" class=\"dataframe\">\n",
       "  <thead>\n",
       "    <tr style=\"text-align: right;\">\n",
       "      <th></th>\n",
       "      <th>Frequency [Hz]</th>\n",
       "      <th>Filtered Average Magnitude [dBm]</th>\n",
       "    </tr>\n",
       "  </thead>\n",
       "  <tbody>\n",
       "    <tr>\n",
       "      <th>1</th>\n",
       "      <td>10101.010101</td>\n",
       "      <td>-109.421239</td>\n",
       "    </tr>\n",
       "    <tr>\n",
       "      <th>2</th>\n",
       "      <td>20202.020202</td>\n",
       "      <td>-99.570820</td>\n",
       "    </tr>\n",
       "    <tr>\n",
       "      <th>3</th>\n",
       "      <td>30303.030303</td>\n",
       "      <td>-108.652010</td>\n",
       "    </tr>\n",
       "    <tr>\n",
       "      <th>7</th>\n",
       "      <td>70707.070707</td>\n",
       "      <td>-95.543701</td>\n",
       "    </tr>\n",
       "    <tr>\n",
       "      <th>8</th>\n",
       "      <td>80808.080808</td>\n",
       "      <td>-87.092298</td>\n",
       "    </tr>\n",
       "    <tr>\n",
       "      <th>9</th>\n",
       "      <td>90909.090909</td>\n",
       "      <td>-100.462522</td>\n",
       "    </tr>\n",
       "    <tr>\n",
       "      <th>16</th>\n",
       "      <td>161616.161616</td>\n",
       "      <td>-86.434085</td>\n",
       "    </tr>\n",
       "    <tr>\n",
       "      <th>21</th>\n",
       "      <td>212121.212121</td>\n",
       "      <td>-113.573105</td>\n",
       "    </tr>\n",
       "    <tr>\n",
       "      <th>24</th>\n",
       "      <td>242424.242424</td>\n",
       "      <td>-83.546665</td>\n",
       "    </tr>\n",
       "    <tr>\n",
       "      <th>25</th>\n",
       "      <td>252525.252525</td>\n",
       "      <td>-88.735678</td>\n",
       "    </tr>\n",
       "    <tr>\n",
       "      <th>27</th>\n",
       "      <td>272727.272727</td>\n",
       "      <td>-95.300279</td>\n",
       "    </tr>\n",
       "    <tr>\n",
       "      <th>28</th>\n",
       "      <td>282828.282828</td>\n",
       "      <td>-100.486487</td>\n",
       "    </tr>\n",
       "    <tr>\n",
       "      <th>29</th>\n",
       "      <td>292929.292929</td>\n",
       "      <td>-111.828840</td>\n",
       "    </tr>\n",
       "    <tr>\n",
       "      <th>30</th>\n",
       "      <td>303030.303030</td>\n",
       "      <td>-80.871090</td>\n",
       "    </tr>\n",
       "    <tr>\n",
       "      <th>31</th>\n",
       "      <td>313131.313131</td>\n",
       "      <td>-116.747224</td>\n",
       "    </tr>\n",
       "    <tr>\n",
       "      <th>32</th>\n",
       "      <td>323232.323232</td>\n",
       "      <td>-80.349478</td>\n",
       "    </tr>\n",
       "    <tr>\n",
       "      <th>34</th>\n",
       "      <td>343434.343434</td>\n",
       "      <td>-91.916233</td>\n",
       "    </tr>\n",
       "    <tr>\n",
       "      <th>39</th>\n",
       "      <td>393939.393939</td>\n",
       "      <td>-114.674237</td>\n",
       "    </tr>\n",
       "    <tr>\n",
       "      <th>40</th>\n",
       "      <td>404040.404040</td>\n",
       "      <td>-85.608154</td>\n",
       "    </tr>\n",
       "    <tr>\n",
       "      <th>45</th>\n",
       "      <td>454545.454545</td>\n",
       "      <td>-94.417898</td>\n",
       "    </tr>\n",
       "    <tr>\n",
       "      <th>46</th>\n",
       "      <td>464646.464646</td>\n",
       "      <td>-112.430358</td>\n",
       "    </tr>\n",
       "    <tr>\n",
       "      <th>55</th>\n",
       "      <td>555555.555556</td>\n",
       "      <td>-92.330032</td>\n",
       "    </tr>\n",
       "    <tr>\n",
       "      <th>56</th>\n",
       "      <td>565656.565657</td>\n",
       "      <td>-92.844827</td>\n",
       "    </tr>\n",
       "    <tr>\n",
       "      <th>59</th>\n",
       "      <td>595959.595960</td>\n",
       "      <td>-109.461905</td>\n",
       "    </tr>\n",
       "    <tr>\n",
       "      <th>64</th>\n",
       "      <td>646464.646465</td>\n",
       "      <td>-103.779829</td>\n",
       "    </tr>\n",
       "    <tr>\n",
       "      <th>70</th>\n",
       "      <td>707070.707071</td>\n",
       "      <td>-89.430741</td>\n",
       "    </tr>\n",
       "    <tr>\n",
       "      <th>73</th>\n",
       "      <td>737373.737374</td>\n",
       "      <td>-104.576797</td>\n",
       "    </tr>\n",
       "    <tr>\n",
       "      <th>75</th>\n",
       "      <td>757575.757576</td>\n",
       "      <td>-106.247426</td>\n",
       "    </tr>\n",
       "    <tr>\n",
       "      <th>78</th>\n",
       "      <td>787878.787879</td>\n",
       "      <td>-91.733324</td>\n",
       "    </tr>\n",
       "    <tr>\n",
       "      <th>82</th>\n",
       "      <td>828282.828283</td>\n",
       "      <td>-87.303877</td>\n",
       "    </tr>\n",
       "    <tr>\n",
       "      <th>85</th>\n",
       "      <td>858585.858586</td>\n",
       "      <td>-86.457542</td>\n",
       "    </tr>\n",
       "    <tr>\n",
       "      <th>86</th>\n",
       "      <td>868686.868687</td>\n",
       "      <td>-91.165217</td>\n",
       "    </tr>\n",
       "    <tr>\n",
       "      <th>89</th>\n",
       "      <td>898989.898990</td>\n",
       "      <td>-92.341291</td>\n",
       "    </tr>\n",
       "    <tr>\n",
       "      <th>92</th>\n",
       "      <td>929292.929293</td>\n",
       "      <td>-110.327742</td>\n",
       "    </tr>\n",
       "    <tr>\n",
       "      <th>97</th>\n",
       "      <td>979797.979798</td>\n",
       "      <td>-81.909260</td>\n",
       "    </tr>\n",
       "    <tr>\n",
       "      <th>99</th>\n",
       "      <td>1000000.000000</td>\n",
       "      <td>-117.437480</td>\n",
       "    </tr>\n",
       "  </tbody>\n",
       "</table>\n",
       "</div>"
      ],
      "text/plain": [
       "    Frequency [Hz]  Filtered Average Magnitude [dBm]\n",
       "1     10101.010101                       -109.421239\n",
       "2     20202.020202                        -99.570820\n",
       "3     30303.030303                       -108.652010\n",
       "7     70707.070707                        -95.543701\n",
       "8     80808.080808                        -87.092298\n",
       "9     90909.090909                       -100.462522\n",
       "16   161616.161616                        -86.434085\n",
       "21   212121.212121                       -113.573105\n",
       "24   242424.242424                        -83.546665\n",
       "25   252525.252525                        -88.735678\n",
       "27   272727.272727                        -95.300279\n",
       "28   282828.282828                       -100.486487\n",
       "29   292929.292929                       -111.828840\n",
       "30   303030.303030                        -80.871090\n",
       "31   313131.313131                       -116.747224\n",
       "32   323232.323232                        -80.349478\n",
       "34   343434.343434                        -91.916233\n",
       "39   393939.393939                       -114.674237\n",
       "40   404040.404040                        -85.608154\n",
       "45   454545.454545                        -94.417898\n",
       "46   464646.464646                       -112.430358\n",
       "55   555555.555556                        -92.330032\n",
       "56   565656.565657                        -92.844827\n",
       "59   595959.595960                       -109.461905\n",
       "64   646464.646465                       -103.779829\n",
       "70   707070.707071                        -89.430741\n",
       "73   737373.737374                       -104.576797\n",
       "75   757575.757576                       -106.247426\n",
       "78   787878.787879                        -91.733324\n",
       "82   828282.828283                        -87.303877\n",
       "85   858585.858586                        -86.457542\n",
       "86   868686.868687                        -91.165217\n",
       "89   898989.898990                        -92.341291\n",
       "92   929292.929293                       -110.327742\n",
       "97   979797.979798                        -81.909260\n",
       "99  1000000.000000                       -117.437480"
      ]
     },
     "execution_count": 42,
     "metadata": {},
     "output_type": "execute_result"
    }
   ],
   "source": [
    "encontrar_interferencias(df, umbral=-80)"
   ]
  },
  {
   "cell_type": "code",
   "execution_count": 43,
   "metadata": {},
   "outputs": [
    {
     "data": {
      "text/plain": [
       "np.float64(1000000.0)"
      ]
     },
     "execution_count": 43,
     "metadata": {},
     "output_type": "execute_result"
    }
   ],
   "source": [
    "analizar_ancho_de_banda_ocupacion(df)"
   ]
  },
  {
   "cell_type": "code",
   "execution_count": 44,
   "metadata": {},
   "outputs": [
    {
     "data": {
      "text/plain": [
       "np.float64(9.899999999999999)"
      ]
     },
     "execution_count": 44,
     "metadata": {},
     "output_type": "execute_result"
    }
   ],
   "source": [
    "calcular_frecuencia_repeticion_pulso(tiempos)"
   ]
  }
 ],
 "metadata": {
  "kernelspec": {
   "display_name": "Python 3",
   "language": "python",
   "name": "python3"
  },
  "language_info": {
   "codemirror_mode": {
    "name": "ipython",
    "version": 3
   },
   "file_extension": ".py",
   "mimetype": "text/x-python",
   "name": "python",
   "nbconvert_exporter": "python",
   "pygments_lexer": "ipython3",
   "version": "3.12.4"
  }
 },
 "nbformat": 4,
 "nbformat_minor": 2
}
